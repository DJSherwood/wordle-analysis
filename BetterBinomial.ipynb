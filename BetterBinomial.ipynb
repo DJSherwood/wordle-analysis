{
 "cells": [
  {
   "cell_type": "markdown",
   "id": "0b7d0cf8-733e-47b0-b1cc-0601085c61f5",
   "metadata": {},
   "source": [
    "## Use the ProcessWordle Module"
   ]
  },
  {
   "cell_type": "code",
   "execution_count": 1,
   "id": "99e92415-b434-4b58-88ce-50daa332a8ce",
   "metadata": {},
   "outputs": [],
   "source": [
    "from importlib import reload\n",
    "from ProcessWordle import ScrabblePoints, ParseWordle\n",
    "import censoring"
   ]
  },
  {
   "cell_type": "code",
   "execution_count": 7,
   "id": "b038b2cf-d494-4c7a-a82a-5948429c38ee",
   "metadata": {},
   "outputs": [
    {
     "data": {
      "text/plain": [
       "<ProcessWordle.ParseWordle at 0x24724d2f100>"
      ]
     },
     "execution_count": 7,
     "metadata": {},
     "output_type": "execute_result"
    }
   ],
   "source": [
    "sp = ScrabblePoints(censoring.wordle_answers_input)\n",
    "sp.read_wordle_answers()\n",
    "sp.add_total_and_difficulty()\n",
    "\n",
    "pw = ParseWordle(\n",
    "    censoring.raw_whatsapp_input, \n",
    "    censoring.wordle_output,\n",
    "    censoring.name_alias\n",
    ")\n",
    "pw.create_wordle_df()\n",
    "pw.process_data_frame()\n",
    "pw.join_data_frames(sp.words_df)\n",
    "pw.write_final_df()"
   ]
  },
  {
   "cell_type": "markdown",
   "id": "4e2f1dfe-8f13-4109-affc-e56517bba014",
   "metadata": {},
   "source": [
    "## Import Modules for PYMC"
   ]
  },
  {
   "cell_type": "code",
   "execution_count": 1,
   "id": "502842ed-0fba-4144-8bf3-f09a314a6bc1",
   "metadata": {},
   "outputs": [],
   "source": [
    "import numpy as np\n",
    "import pandas as pd\n",
    "import pymc as pm\n",
    "import arviz as az\n",
    "import censoring\n",
    "\n",
    "RANDOM_SEED = 100\n",
    "np.random.seed(RANDOM_SEED)\n",
    "az.style.use(\"arviz-darkgrid\")"
   ]
  },
  {
   "cell_type": "markdown",
   "id": "6b817e45-67af-4160-a363-5651665e24e8",
   "metadata": {},
   "source": [
    "## Load Data"
   ]
  },
  {
   "cell_type": "code",
   "execution_count": 2,
   "id": "4e16af7d-2671-437a-bb12-0936195acec4",
   "metadata": {},
   "outputs": [],
   "source": [
    "# load data\n",
    "df = pd.read_csv(censoring.wordle_output)"
   ]
  },
  {
   "cell_type": "markdown",
   "id": "61a35ee8-a3d3-4e8f-9915-ec8ee2f9492c",
   "metadata": {},
   "source": [
    "## One more layer of processing\n",
    "\n",
    "It turns out that if someone does not participate, then they will have a lower score (lower rate of fails) then someone who did particpate.\n",
    "Thus, the contest should only be around puzzles which have equal contributions. "
   ]
  },
  {
   "cell_type": "code",
   "execution_count": 3,
   "id": "3911a2ec-29b7-45bd-872e-41805760f7cb",
   "metadata": {},
   "outputs": [],
   "source": [
    "# limit to the puzzle in which we last have words\n",
    "df2 = df[ (df['PuzzleNum'] < 528) & \n",
    "         (df['PuzzleNum'] != 421) & \n",
    "         (df['Difficulty'] != 'Undefined')\n",
    "        ].copy()"
   ]
  },
  {
   "cell_type": "markdown",
   "id": "7d1c4bdd-6f47-441b-9958-1b4941679474",
   "metadata": {},
   "source": [
    "### Reshape data to move players/difficulty to columns"
   ]
  },
  {
   "cell_type": "code",
   "execution_count": 4,
   "id": "4d0f4ba1-521c-433d-a056-a7571e01f760",
   "metadata": {},
   "outputs": [],
   "source": [
    "alias_list = [ censoring.name_alias[i] for i in [*censoring.name_alias]]\n",
    "# create dummy dataset for predictors\n",
    "playerDummies = pd.get_dummies(df2['Name'])\n",
    "difficultyDummies = pd.get_dummies(df2['Difficulty'])\n",
    "# create dummy dataset for interactions\n",
    "template = np.zeros((len(playerDummies.index), 8*2))\n",
    "c = 0\n",
    "interaction_list = []\n",
    "for i in playerDummies.columns: \n",
    "    for j in difficultyDummies.columns:\n",
    "        new_vector = playerDummies[i].values * difficultyDummies[j].values\n",
    "        template[:, c] = new_vector\n",
    "        interaction_list.append(i + '_' + j)\n",
    "        c += 1\n",
    "        \n",
    "interactionDummies = pd.DataFrame(template, columns=interaction_list)"
   ]
  },
  {
   "cell_type": "markdown",
   "id": "7032199b-c4ad-42f9-b901-d6c1af6b33e3",
   "metadata": {},
   "source": [
    "## Model\n",
    "The 'players' are treated as one-hot encoded columns. This allows me to make predicions by using pm.set_data(). But is it worth it? \n",
    "\n",
    "Should I be adding a 'puzzle' dimension, here? \n",
    "Need to double-check which variables I am pooling / not-pooling. From a conceptual standpoint, each player should be independent, but difficulty should not be independent?"
   ]
  },
  {
   "cell_type": "code",
   "execution_count": 5,
   "id": "037c4d89-44ef-4bcd-a94c-6be7e30592b7",
   "metadata": {},
   "outputs": [],
   "source": [
    "with pm.Model(\n",
    "    coords={\n",
    "        \"obs\": df2.index.values, \n",
    "        \"Player\": playerDummies.columns,\n",
    "        \"Difficulty\": difficultyDummies.columns,\n",
    "        \"PlayerDifficulty\": interactionDummies.columns\n",
    "    }\n",
    ") as BB2:\n",
    "    \n",
    "    # using pm.data\n",
    "    y = pm.MutableData(\"y\", df2['Fails'].to_numpy())\n",
    "    xPlayers = pm.MutableData(\"xPlayers\", playerDummies.to_numpy())\n",
    "    xDifficulty = pm.MutableData(\"xDifficulty\", difficultyDummies.to_numpy())\n",
    "    xInteraction = pm.MutableData(\"xInteraction\", interactionDummies.to_numpy())\n",
    "    \n",
    "    # Names\n",
    "    Namesβ = pm.HalfNormal(\"Namesβ\", sigma=1, dims=\"Player\")\n",
    "\n",
    "    # Difficulty\n",
    "    Diffβ = pm.HalfNormal(\"Diffβ\", sigma=1, dims=\"Difficulty\")\n",
    "\n",
    "    # Interaction\n",
    "    Interβ = pm.HalfNormal(\"Interβ\", sigma=1, dims=\"PlayerDifficulty\")\n",
    "    \n",
    "    # Error\n",
    "    ϵβ = pm.HalfNormal(\"ϵβ\", sigma=1)\n",
    "    \n",
    "    # likelihood\n",
    "    θα = pm.HalfNormal(\"θα\", sigma=1)\n",
    "    θβ = pm.Deterministic(\"θβ\", pm.math.dot(xPlayers, Namesβ) + pm.math.dot(xDifficulty, Diffβ) + pm.math.dot(xInteraction, Interβ) + ϵβ)\n",
    "\n",
    "    # response\n",
    "    Fails = pm.BetaBinomial(\n",
    "        \"Fails\", \n",
    "        n=6, \n",
    "        alpha=θα, \n",
    "        beta=θβ, \n",
    "        observed=y\n",
    "    )"
   ]
  },
  {
   "cell_type": "code",
   "execution_count": 6,
   "id": "58a07224-ff71-4ed5-a5c9-5c19c21acd2b",
   "metadata": {},
   "outputs": [
    {
     "data": {
      "image/svg+xml": [
       "<?xml version=\"1.0\" encoding=\"UTF-8\" standalone=\"no\"?>\n",
       "<!DOCTYPE svg PUBLIC \"-//W3C//DTD SVG 1.1//EN\"\n",
       " \"http://www.w3.org/Graphics/SVG/1.1/DTD/svg11.dtd\">\n",
       "<!-- Generated by graphviz version 5.0.1 (0)\n",
       " -->\n",
       "<!-- Pages: 1 -->\n",
       "<svg width=\"897pt\" height=\"452pt\"\n",
       " viewBox=\"0.00 0.00 896.69 451.86\" xmlns=\"http://www.w3.org/2000/svg\" xmlns:xlink=\"http://www.w3.org/1999/xlink\">\n",
       "<g id=\"graph0\" class=\"graph\" transform=\"scale(1 1) rotate(0) translate(4 447.86)\">\n",
       "<polygon fill=\"white\" stroke=\"none\" points=\"-4,4 -4,-447.86 892.69,-447.86 892.69,4 -4,4\"/>\n",
       "<g id=\"clust2\" class=\"cluster\">\n",
       "<title>cluster1725 x 8</title>\n",
       "<path fill=\"none\" stroke=\"black\" d=\"M20,-332.88C20,-332.88 100,-332.88 100,-332.88 106,-332.88 112,-338.88 112,-344.88 112,-344.88 112,-412.88 112,-412.88 112,-418.88 106,-424.88 100,-424.88 100,-424.88 20,-424.88 20,-424.88 14,-424.88 8,-418.88 8,-412.88 8,-412.88 8,-344.88 8,-344.88 8,-338.88 14,-332.88 20,-332.88\"/>\n",
       "<text text-anchor=\"middle\" x=\"79.5\" y=\"-340.68\" font-family=\"Times New Roman,serif\" font-size=\"14.00\">1725 x 8</text>\n",
       "</g>\n",
       "<g id=\"clust3\" class=\"cluster\">\n",
       "<title>cluster1725 x 2</title>\n",
       "<path fill=\"none\" stroke=\"black\" d=\"M132,-332.88C132,-332.88 212,-332.88 212,-332.88 218,-332.88 224,-338.88 224,-344.88 224,-344.88 224,-412.88 224,-412.88 224,-418.88 218,-424.88 212,-424.88 212,-424.88 132,-424.88 132,-424.88 126,-424.88 120,-418.88 120,-412.88 120,-412.88 120,-344.88 120,-344.88 120,-338.88 126,-332.88 132,-332.88\"/>\n",
       "<text text-anchor=\"middle\" x=\"191.5\" y=\"-340.68\" font-family=\"Times New Roman,serif\" font-size=\"14.00\">1725 x 2</text>\n",
       "</g>\n",
       "<g id=\"clust1\" class=\"cluster\">\n",
       "<title>cluster1725</title>\n",
       "<path fill=\"none\" stroke=\"black\" d=\"M350,-8C350,-8 472,-8 472,-8 478,-8 484,-14 484,-20 484,-20 484,-298.93 484,-298.93 484,-304.93 478,-310.93 472,-310.93 472,-310.93 350,-310.93 350,-310.93 344,-310.93 338,-304.93 338,-298.93 338,-298.93 338,-20 338,-20 338,-14 344,-8 350,-8\"/>\n",
       "<text text-anchor=\"middle\" x=\"462\" y=\"-15.8\" font-family=\"Times New Roman,serif\" font-size=\"14.00\">1725</text>\n",
       "</g>\n",
       "<g id=\"clust4\" class=\"cluster\">\n",
       "<title>cluster1725 x 16</title>\n",
       "<path fill=\"none\" stroke=\"black\" d=\"M244,-332.88C244,-332.88 324,-332.88 324,-332.88 330,-332.88 336,-338.88 336,-344.88 336,-344.88 336,-412.88 336,-412.88 336,-418.88 330,-424.88 324,-424.88 324,-424.88 244,-424.88 244,-424.88 238,-424.88 232,-418.88 232,-412.88 232,-412.88 232,-344.88 232,-344.88 232,-338.88 238,-332.88 244,-332.88\"/>\n",
       "<text text-anchor=\"middle\" x=\"300.5\" y=\"-340.68\" font-family=\"Times New Roman,serif\" font-size=\"14.00\">1725 x 16</text>\n",
       "</g>\n",
       "<g id=\"clust7\" class=\"cluster\">\n",
       "<title>clusterPlayerDifficulty (16)</title>\n",
       "<path fill=\"none\" stroke=\"black\" d=\"M640,-321.91C640,-321.91 750,-321.91 750,-321.91 756,-321.91 762,-327.91 762,-333.91 762,-333.91 762,-423.86 762,-423.86 762,-429.86 756,-435.86 750,-435.86 750,-435.86 640,-435.86 640,-435.86 634,-435.86 628,-429.86 628,-423.86 628,-423.86 628,-333.91 628,-333.91 628,-327.91 634,-321.91 640,-321.91\"/>\n",
       "<text text-anchor=\"middle\" x=\"696.5\" y=\"-329.71\" font-family=\"Times New Roman,serif\" font-size=\"14.00\">PlayerDifficulty (16)</text>\n",
       "</g>\n",
       "<g id=\"clust5\" class=\"cluster\">\n",
       "<title>clusterPlayer (8)</title>\n",
       "<path fill=\"none\" stroke=\"black\" d=\"M356,-321.91C356,-321.91 466,-321.91 466,-321.91 472,-321.91 478,-327.91 478,-333.91 478,-333.91 478,-423.86 478,-423.86 478,-429.86 472,-435.86 466,-435.86 466,-435.86 356,-435.86 356,-435.86 350,-435.86 344,-429.86 344,-423.86 344,-423.86 344,-333.91 344,-333.91 344,-327.91 350,-321.91 356,-321.91\"/>\n",
       "<text text-anchor=\"middle\" x=\"442.5\" y=\"-329.71\" font-family=\"Times New Roman,serif\" font-size=\"14.00\">Player (8)</text>\n",
       "</g>\n",
       "<g id=\"clust6\" class=\"cluster\">\n",
       "<title>clusterDifficulty (2)</title>\n",
       "<path fill=\"none\" stroke=\"black\" d=\"M498,-321.91C498,-321.91 608,-321.91 608,-321.91 614,-321.91 620,-327.91 620,-333.91 620,-333.91 620,-423.86 620,-423.86 620,-429.86 614,-435.86 608,-435.86 608,-435.86 498,-435.86 498,-435.86 492,-435.86 486,-429.86 486,-423.86 486,-423.86 486,-333.91 486,-333.91 486,-327.91 492,-321.91 498,-321.91\"/>\n",
       "<text text-anchor=\"middle\" x=\"575.5\" y=\"-329.71\" font-family=\"Times New Roman,serif\" font-size=\"14.00\">Difficulty (2)</text>\n",
       "</g>\n",
       "<!-- Fails -->\n",
       "<g id=\"node1\" class=\"node\">\n",
       "<title>Fails</title>\n",
       "<ellipse fill=\"lightgrey\" stroke=\"black\" cx=\"411\" cy=\"-165.48\" rx=\"65.11\" ry=\"37.45\"/>\n",
       "<text text-anchor=\"middle\" x=\"411\" y=\"-176.78\" font-family=\"Times New Roman,serif\" font-size=\"14.00\">Fails</text>\n",
       "<text text-anchor=\"middle\" x=\"411\" y=\"-161.78\" font-family=\"Times New Roman,serif\" font-size=\"14.00\">~</text>\n",
       "<text text-anchor=\"middle\" x=\"411\" y=\"-146.78\" font-family=\"Times New Roman,serif\" font-size=\"14.00\">BetaBinomial</text>\n",
       "</g>\n",
       "<!-- y -->\n",
       "<g id=\"node2\" class=\"node\">\n",
       "<title>y</title>\n",
       "<path fill=\"lightgrey\" stroke=\"black\" d=\"M443,-92C443,-92 379,-92 379,-92 373,-92 367,-86 367,-80 367,-80 367,-51 367,-51 367,-45 373,-39 379,-39 379,-39 443,-39 443,-39 449,-39 455,-45 455,-51 455,-51 455,-80 455,-80 455,-86 449,-92 443,-92\"/>\n",
       "<text text-anchor=\"middle\" x=\"411\" y=\"-76.8\" font-family=\"Times New Roman,serif\" font-size=\"14.00\">y</text>\n",
       "<text text-anchor=\"middle\" x=\"411\" y=\"-61.8\" font-family=\"Times New Roman,serif\" font-size=\"14.00\">~</text>\n",
       "<text text-anchor=\"middle\" x=\"411\" y=\"-46.8\" font-family=\"Times New Roman,serif\" font-size=\"14.00\">MutableData</text>\n",
       "</g>\n",
       "<!-- Fails&#45;&gt;y -->\n",
       "<g id=\"edge1\" class=\"edge\">\n",
       "<title>Fails&#45;&gt;y</title>\n",
       "<path fill=\"none\" stroke=\"black\" d=\"M411,-127.99C411,-119.58 411,-110.63 411,-102.25\"/>\n",
       "<polygon fill=\"black\" stroke=\"black\" points=\"414.5,-102.01 411,-92.01 407.5,-102.01 414.5,-102.01\"/>\n",
       "</g>\n",
       "<!-- θβ -->\n",
       "<g id=\"node3\" class=\"node\">\n",
       "<title>θβ</title>\n",
       "<polygon fill=\"none\" stroke=\"black\" points=\"456.5,-302.93 365.5,-302.93 365.5,-249.93 456.5,-249.93 456.5,-302.93\"/>\n",
       "<text text-anchor=\"middle\" x=\"411\" y=\"-287.73\" font-family=\"Times New Roman,serif\" font-size=\"14.00\">θβ</text>\n",
       "<text text-anchor=\"middle\" x=\"411\" y=\"-272.73\" font-family=\"Times New Roman,serif\" font-size=\"14.00\">~</text>\n",
       "<text text-anchor=\"middle\" x=\"411\" y=\"-257.73\" font-family=\"Times New Roman,serif\" font-size=\"14.00\">Deterministic</text>\n",
       "</g>\n",
       "<!-- θβ&#45;&gt;Fails -->\n",
       "<g id=\"edge10\" class=\"edge\">\n",
       "<title>θβ&#45;&gt;Fails</title>\n",
       "<path fill=\"none\" stroke=\"black\" d=\"M411,-249.89C411,-238.98 411,-225.89 411,-213.35\"/>\n",
       "<polygon fill=\"black\" stroke=\"black\" points=\"414.5,-213 411,-203 407.5,-213 414.5,-213\"/>\n",
       "</g>\n",
       "<!-- xPlayers -->\n",
       "<g id=\"node4\" class=\"node\">\n",
       "<title>xPlayers</title>\n",
       "<path fill=\"lightgrey\" stroke=\"black\" d=\"M92,-416.88C92,-416.88 28,-416.88 28,-416.88 22,-416.88 16,-410.88 16,-404.88 16,-404.88 16,-375.88 16,-375.88 16,-369.88 22,-363.88 28,-363.88 28,-363.88 92,-363.88 92,-363.88 98,-363.88 104,-369.88 104,-375.88 104,-375.88 104,-404.88 104,-404.88 104,-410.88 98,-416.88 92,-416.88\"/>\n",
       "<text text-anchor=\"middle\" x=\"60\" y=\"-401.68\" font-family=\"Times New Roman,serif\" font-size=\"14.00\">xPlayers</text>\n",
       "<text text-anchor=\"middle\" x=\"60\" y=\"-386.68\" font-family=\"Times New Roman,serif\" font-size=\"14.00\">~</text>\n",
       "<text text-anchor=\"middle\" x=\"60\" y=\"-371.68\" font-family=\"Times New Roman,serif\" font-size=\"14.00\">MutableData</text>\n",
       "</g>\n",
       "<!-- xPlayers&#45;&gt;θβ -->\n",
       "<g id=\"edge7\" class=\"edge\">\n",
       "<title>xPlayers&#45;&gt;θβ</title>\n",
       "<path fill=\"none\" stroke=\"black\" d=\"M74.59,-363.84C84.38,-349.15 98.63,-331.71 116,-321.91 155.9,-299.38 281.56,-286.75 355.37,-281.09\"/>\n",
       "<polygon fill=\"black\" stroke=\"black\" points=\"355.72,-284.58 365.43,-280.34 355.2,-277.6 355.72,-284.58\"/>\n",
       "</g>\n",
       "<!-- xDifficulty -->\n",
       "<g id=\"node5\" class=\"node\">\n",
       "<title>xDifficulty</title>\n",
       "<path fill=\"lightgrey\" stroke=\"black\" d=\"M204,-416.88C204,-416.88 140,-416.88 140,-416.88 134,-416.88 128,-410.88 128,-404.88 128,-404.88 128,-375.88 128,-375.88 128,-369.88 134,-363.88 140,-363.88 140,-363.88 204,-363.88 204,-363.88 210,-363.88 216,-369.88 216,-375.88 216,-375.88 216,-404.88 216,-404.88 216,-410.88 210,-416.88 204,-416.88\"/>\n",
       "<text text-anchor=\"middle\" x=\"172\" y=\"-401.68\" font-family=\"Times New Roman,serif\" font-size=\"14.00\">xDifficulty</text>\n",
       "<text text-anchor=\"middle\" x=\"172\" y=\"-386.68\" font-family=\"Times New Roman,serif\" font-size=\"14.00\">~</text>\n",
       "<text text-anchor=\"middle\" x=\"172\" y=\"-371.68\" font-family=\"Times New Roman,serif\" font-size=\"14.00\">MutableData</text>\n",
       "</g>\n",
       "<!-- xDifficulty&#45;&gt;θβ -->\n",
       "<g id=\"edge3\" class=\"edge\">\n",
       "<title>xDifficulty&#45;&gt;θβ</title>\n",
       "<path fill=\"none\" stroke=\"black\" d=\"M187.37,-363.72C197.25,-349.36 211.34,-332.31 228,-321.91 266.57,-297.82 317.24,-286.78 355.48,-281.72\"/>\n",
       "<polygon fill=\"black\" stroke=\"black\" points=\"355.92,-285.19 365.42,-280.5 355.07,-278.24 355.92,-285.19\"/>\n",
       "</g>\n",
       "<!-- xInteraction -->\n",
       "<g id=\"node6\" class=\"node\">\n",
       "<title>xInteraction</title>\n",
       "<path fill=\"lightgrey\" stroke=\"black\" d=\"M316,-416.88C316,-416.88 252,-416.88 252,-416.88 246,-416.88 240,-410.88 240,-404.88 240,-404.88 240,-375.88 240,-375.88 240,-369.88 246,-363.88 252,-363.88 252,-363.88 316,-363.88 316,-363.88 322,-363.88 328,-369.88 328,-375.88 328,-375.88 328,-404.88 328,-404.88 328,-410.88 322,-416.88 316,-416.88\"/>\n",
       "<text text-anchor=\"middle\" x=\"284\" y=\"-401.68\" font-family=\"Times New Roman,serif\" font-size=\"14.00\">xInteraction</text>\n",
       "<text text-anchor=\"middle\" x=\"284\" y=\"-386.68\" font-family=\"Times New Roman,serif\" font-size=\"14.00\">~</text>\n",
       "<text text-anchor=\"middle\" x=\"284\" y=\"-371.68\" font-family=\"Times New Roman,serif\" font-size=\"14.00\">MutableData</text>\n",
       "</g>\n",
       "<!-- xInteraction&#45;&gt;θβ -->\n",
       "<g id=\"edge4\" class=\"edge\">\n",
       "<title>xInteraction&#45;&gt;θβ</title>\n",
       "<path fill=\"none\" stroke=\"black\" d=\"M302.23,-363.65C312.43,-350.3 325.91,-334.24 340,-321.91 345.15,-317.4 350.8,-313.05 356.6,-308.95\"/>\n",
       "<polygon fill=\"black\" stroke=\"black\" points=\"358.86,-311.65 365.16,-303.13 354.92,-305.86 358.86,-311.65\"/>\n",
       "</g>\n",
       "<!-- Namesβ -->\n",
       "<g id=\"node7\" class=\"node\">\n",
       "<title>Namesβ</title>\n",
       "<ellipse fill=\"none\" stroke=\"black\" cx=\"411\" cy=\"-390.38\" rx=\"58.88\" ry=\"37.45\"/>\n",
       "<text text-anchor=\"middle\" x=\"411\" y=\"-401.68\" font-family=\"Times New Roman,serif\" font-size=\"14.00\">Namesβ</text>\n",
       "<text text-anchor=\"middle\" x=\"411\" y=\"-386.68\" font-family=\"Times New Roman,serif\" font-size=\"14.00\">~</text>\n",
       "<text text-anchor=\"middle\" x=\"411\" y=\"-371.68\" font-family=\"Times New Roman,serif\" font-size=\"14.00\">HalfNormal</text>\n",
       "</g>\n",
       "<!-- Namesβ&#45;&gt;θβ -->\n",
       "<g id=\"edge6\" class=\"edge\">\n",
       "<title>Namesβ&#45;&gt;θβ</title>\n",
       "<path fill=\"none\" stroke=\"black\" d=\"M411,-352.73C411,-340.07 411,-325.92 411,-313.32\"/>\n",
       "<polygon fill=\"black\" stroke=\"black\" points=\"414.5,-313.18 411,-303.18 407.5,-313.18 414.5,-313.18\"/>\n",
       "</g>\n",
       "<!-- Diffβ -->\n",
       "<g id=\"node8\" class=\"node\">\n",
       "<title>Diffβ</title>\n",
       "<ellipse fill=\"none\" stroke=\"black\" cx=\"553\" cy=\"-390.38\" rx=\"58.88\" ry=\"37.45\"/>\n",
       "<text text-anchor=\"middle\" x=\"553\" y=\"-401.68\" font-family=\"Times New Roman,serif\" font-size=\"14.00\">Diffβ</text>\n",
       "<text text-anchor=\"middle\" x=\"553\" y=\"-386.68\" font-family=\"Times New Roman,serif\" font-size=\"14.00\">~</text>\n",
       "<text text-anchor=\"middle\" x=\"553\" y=\"-371.68\" font-family=\"Times New Roman,serif\" font-size=\"14.00\">HalfNormal</text>\n",
       "</g>\n",
       "<!-- Diffβ&#45;&gt;θβ -->\n",
       "<g id=\"edge8\" class=\"edge\">\n",
       "<title>Diffβ&#45;&gt;θβ</title>\n",
       "<path fill=\"none\" stroke=\"black\" d=\"M522.76,-358.07C510.59,-346.17 496.11,-332.85 482,-321.91 476.23,-317.43 470,-313 463.7,-308.77\"/>\n",
       "<polygon fill=\"black\" stroke=\"black\" points=\"465.39,-305.7 455.11,-303.14 461.56,-311.55 465.39,-305.7\"/>\n",
       "</g>\n",
       "<!-- Interβ -->\n",
       "<g id=\"node9\" class=\"node\">\n",
       "<title>Interβ</title>\n",
       "<ellipse fill=\"none\" stroke=\"black\" cx=\"695\" cy=\"-390.38\" rx=\"58.88\" ry=\"37.45\"/>\n",
       "<text text-anchor=\"middle\" x=\"695\" y=\"-401.68\" font-family=\"Times New Roman,serif\" font-size=\"14.00\">Interβ</text>\n",
       "<text text-anchor=\"middle\" x=\"695\" y=\"-386.68\" font-family=\"Times New Roman,serif\" font-size=\"14.00\">~</text>\n",
       "<text text-anchor=\"middle\" x=\"695\" y=\"-371.68\" font-family=\"Times New Roman,serif\" font-size=\"14.00\">HalfNormal</text>\n",
       "</g>\n",
       "<!-- Interβ&#45;&gt;θβ -->\n",
       "<g id=\"edge5\" class=\"edge\">\n",
       "<title>Interβ&#45;&gt;θβ</title>\n",
       "<path fill=\"none\" stroke=\"black\" d=\"M669.47,-356.53C657.25,-343.33 641.48,-329.47 624,-321.91 595.2,-309.45 513.31,-322.06 483,-313.91 476.55,-312.17 470,-309.81 463.61,-307.13\"/>\n",
       "<polygon fill=\"black\" stroke=\"black\" points=\"464.96,-303.9 454.41,-303 462.09,-310.29 464.96,-303.9\"/>\n",
       "</g>\n",
       "<!-- ϵβ -->\n",
       "<g id=\"node10\" class=\"node\">\n",
       "<title>ϵβ</title>\n",
       "<ellipse fill=\"none\" stroke=\"black\" cx=\"830\" cy=\"-390.38\" rx=\"58.88\" ry=\"37.45\"/>\n",
       "<text text-anchor=\"middle\" x=\"830\" y=\"-401.68\" font-family=\"Times New Roman,serif\" font-size=\"14.00\">ϵβ</text>\n",
       "<text text-anchor=\"middle\" x=\"830\" y=\"-386.68\" font-family=\"Times New Roman,serif\" font-size=\"14.00\">~</text>\n",
       "<text text-anchor=\"middle\" x=\"830\" y=\"-371.68\" font-family=\"Times New Roman,serif\" font-size=\"14.00\">HalfNormal</text>\n",
       "</g>\n",
       "<!-- ϵβ&#45;&gt;θβ -->\n",
       "<g id=\"edge2\" class=\"edge\">\n",
       "<title>ϵβ&#45;&gt;θβ</title>\n",
       "<path fill=\"none\" stroke=\"black\" d=\"M807.12,-355.64C796.31,-342.63 782.22,-329.15 766,-321.91 737.28,-309.08 513.49,-321.65 483,-313.91 476.43,-312.24 469.77,-309.9 463.29,-307.2\"/>\n",
       "<polygon fill=\"black\" stroke=\"black\" points=\"464.52,-303.91 453.96,-303.03 461.66,-310.3 464.52,-303.91\"/>\n",
       "</g>\n",
       "<!-- θα -->\n",
       "<g id=\"node11\" class=\"node\">\n",
       "<title>θα</title>\n",
       "<ellipse fill=\"none\" stroke=\"black\" cx=\"551\" cy=\"-276.43\" rx=\"58.88\" ry=\"37.45\"/>\n",
       "<text text-anchor=\"middle\" x=\"551\" y=\"-287.73\" font-family=\"Times New Roman,serif\" font-size=\"14.00\">θα</text>\n",
       "<text text-anchor=\"middle\" x=\"551\" y=\"-272.73\" font-family=\"Times New Roman,serif\" font-size=\"14.00\">~</text>\n",
       "<text text-anchor=\"middle\" x=\"551\" y=\"-257.73\" font-family=\"Times New Roman,serif\" font-size=\"14.00\">HalfNormal</text>\n",
       "</g>\n",
       "<!-- θα&#45;&gt;Fails -->\n",
       "<g id=\"edge9\" class=\"edge\">\n",
       "<title>θα&#45;&gt;Fails</title>\n",
       "<path fill=\"none\" stroke=\"black\" d=\"M514.22,-246.8C496.71,-233.18 475.61,-216.76 457.05,-202.32\"/>\n",
       "<polygon fill=\"black\" stroke=\"black\" points=\"459.04,-199.43 449,-196.05 454.74,-204.95 459.04,-199.43\"/>\n",
       "</g>\n",
       "</g>\n",
       "</svg>\n"
      ],
      "text/plain": [
       "<graphviz.graphs.Digraph at 0x180d317a380>"
      ]
     },
     "execution_count": 6,
     "metadata": {},
     "output_type": "execute_result"
    }
   ],
   "source": [
    "pm.model_to_graphviz(BB2)"
   ]
  },
  {
   "cell_type": "code",
   "execution_count": 7,
   "id": "50a231ea-a993-4a24-ba77-ba598953d19a",
   "metadata": {},
   "outputs": [
    {
     "name": "stderr",
     "output_type": "stream",
     "text": [
      "Auto-assigning NUTS sampler...\n",
      "Initializing NUTS using jitter+adapt_diag...\n",
      "Multiprocess sampling (4 chains in 4 jobs)\n",
      "NUTS: [Namesβ, Diffβ, Interβ, ϵβ, θα]\n"
     ]
    },
    {
     "data": {
      "text/html": [
       "\n",
       "<style>\n",
       "    /* Turns off some styling */\n",
       "    progress {\n",
       "        /* gets rid of default border in Firefox and Opera. */\n",
       "        border: none;\n",
       "        /* Needs to be in here for Safari polyfill so background images work as expected. */\n",
       "        background-size: auto;\n",
       "    }\n",
       "    progress:not([value]), progress:not([value])::-webkit-progress-bar {\n",
       "        background: repeating-linear-gradient(45deg, #7e7e7e, #7e7e7e 10px, #5c5c5c 10px, #5c5c5c 20px);\n",
       "    }\n",
       "    .progress-bar-interrupted, .progress-bar-interrupted::-webkit-progress-bar {\n",
       "        background: #F44336;\n",
       "    }\n",
       "</style>\n"
      ],
      "text/plain": [
       "<IPython.core.display.HTML object>"
      ]
     },
     "metadata": {},
     "output_type": "display_data"
    },
    {
     "data": {
      "text/html": [
       "\n",
       "    <div>\n",
       "      <progress value='12000' class='' max='12000' style='width:300px; height:20px; vertical-align: middle;'></progress>\n",
       "      100.00% [12000/12000 03:23&lt;00:00 Sampling 4 chains, 0 divergences]\n",
       "    </div>\n",
       "    "
      ],
      "text/plain": [
       "<IPython.core.display.HTML object>"
      ]
     },
     "metadata": {},
     "output_type": "display_data"
    },
    {
     "name": "stderr",
     "output_type": "stream",
     "text": [
      "Sampling 4 chains for 2_000 tune and 1_000 draw iterations (8_000 + 4_000 draws total) took 323 seconds.\n",
      "The acceptance probability does not match the target. It is 0.8835, but should be close to 0.8. Try to increase the number of tuning steps.\n"
     ]
    }
   ],
   "source": [
    "with BB2:\n",
    "    trace2 = pm.sample(\n",
    "        draws=1000,\n",
    "        tune=2000,\n",
    "        # start={\n",
    "        #     'Namesβ': np.array([1., 1., 1., 1., 1., 1.]), \n",
    "        #     'Namesα': np.array([1., 1., 1., 1., 1., 1.]), \n",
    "        # }, \n",
    "        return_inferencedata=True\n",
    "    )"
   ]
  },
  {
   "cell_type": "markdown",
   "id": "5a2ce302-6f72-4c60-914b-a970cc1d3bf7",
   "metadata": {},
   "source": [
    "## Display Summary"
   ]
  },
  {
   "cell_type": "code",
   "execution_count": 8,
   "id": "cc160854-a979-4daf-b80f-306a6549fa7d",
   "metadata": {},
   "outputs": [
    {
     "data": {
      "text/html": [
       "<div>\n",
       "<style scoped>\n",
       "    .dataframe tbody tr th:only-of-type {\n",
       "        vertical-align: middle;\n",
       "    }\n",
       "\n",
       "    .dataframe tbody tr th {\n",
       "        vertical-align: top;\n",
       "    }\n",
       "\n",
       "    .dataframe thead th {\n",
       "        text-align: right;\n",
       "    }\n",
       "</style>\n",
       "<table border=\"1\" class=\"dataframe\">\n",
       "  <thead>\n",
       "    <tr style=\"text-align: right;\">\n",
       "      <th></th>\n",
       "      <th>mean</th>\n",
       "      <th>sd</th>\n",
       "      <th>hdi_3%</th>\n",
       "      <th>hdi_97%</th>\n",
       "      <th>mcse_mean</th>\n",
       "      <th>mcse_sd</th>\n",
       "      <th>ess_bulk</th>\n",
       "      <th>ess_tail</th>\n",
       "      <th>r_hat</th>\n",
       "    </tr>\n",
       "  </thead>\n",
       "  <tbody>\n",
       "    <tr>\n",
       "      <th>Namesβ[Ca.W]</th>\n",
       "      <td>0.891</td>\n",
       "      <td>0.512</td>\n",
       "      <td>0.014</td>\n",
       "      <td>1.756</td>\n",
       "      <td>0.010</td>\n",
       "      <td>0.007</td>\n",
       "      <td>2109.0</td>\n",
       "      <td>1516.0</td>\n",
       "      <td>1.0</td>\n",
       "    </tr>\n",
       "    <tr>\n",
       "      <th>Namesβ[Da.M]</th>\n",
       "      <td>1.172</td>\n",
       "      <td>0.572</td>\n",
       "      <td>0.035</td>\n",
       "      <td>2.128</td>\n",
       "      <td>0.013</td>\n",
       "      <td>0.009</td>\n",
       "      <td>1863.0</td>\n",
       "      <td>1358.0</td>\n",
       "      <td>1.0</td>\n",
       "    </tr>\n",
       "    <tr>\n",
       "      <th>Namesβ[Da.S]</th>\n",
       "      <td>0.448</td>\n",
       "      <td>0.341</td>\n",
       "      <td>0.000</td>\n",
       "      <td>1.055</td>\n",
       "      <td>0.006</td>\n",
       "      <td>0.005</td>\n",
       "      <td>2005.0</td>\n",
       "      <td>1273.0</td>\n",
       "      <td>1.0</td>\n",
       "    </tr>\n",
       "    <tr>\n",
       "      <th>Namesβ[Ja.F]</th>\n",
       "      <td>0.828</td>\n",
       "      <td>0.620</td>\n",
       "      <td>0.002</td>\n",
       "      <td>1.940</td>\n",
       "      <td>0.010</td>\n",
       "      <td>0.007</td>\n",
       "      <td>2519.0</td>\n",
       "      <td>1554.0</td>\n",
       "      <td>1.0</td>\n",
       "    </tr>\n",
       "    <tr>\n",
       "      <th>Namesβ[Ka.S]</th>\n",
       "      <td>0.722</td>\n",
       "      <td>0.452</td>\n",
       "      <td>0.000</td>\n",
       "      <td>1.475</td>\n",
       "      <td>0.009</td>\n",
       "      <td>0.006</td>\n",
       "      <td>2221.0</td>\n",
       "      <td>1922.0</td>\n",
       "      <td>1.0</td>\n",
       "    </tr>\n",
       "    <tr>\n",
       "      <th>Namesβ[Ka.W]</th>\n",
       "      <td>0.706</td>\n",
       "      <td>0.430</td>\n",
       "      <td>0.000</td>\n",
       "      <td>1.439</td>\n",
       "      <td>0.009</td>\n",
       "      <td>0.006</td>\n",
       "      <td>1740.0</td>\n",
       "      <td>874.0</td>\n",
       "      <td>1.0</td>\n",
       "    </tr>\n",
       "    <tr>\n",
       "      <th>Namesβ[St.S]</th>\n",
       "      <td>2.362</td>\n",
       "      <td>0.693</td>\n",
       "      <td>1.048</td>\n",
       "      <td>3.679</td>\n",
       "      <td>0.014</td>\n",
       "      <td>0.010</td>\n",
       "      <td>2613.0</td>\n",
       "      <td>1742.0</td>\n",
       "      <td>1.0</td>\n",
       "    </tr>\n",
       "    <tr>\n",
       "      <th>Namesβ[Su.S]</th>\n",
       "      <td>1.079</td>\n",
       "      <td>0.639</td>\n",
       "      <td>0.002</td>\n",
       "      <td>2.184</td>\n",
       "      <td>0.012</td>\n",
       "      <td>0.009</td>\n",
       "      <td>2062.0</td>\n",
       "      <td>1046.0</td>\n",
       "      <td>1.0</td>\n",
       "    </tr>\n",
       "    <tr>\n",
       "      <th>Diffβ[Easy]</th>\n",
       "      <td>2.466</td>\n",
       "      <td>0.581</td>\n",
       "      <td>1.342</td>\n",
       "      <td>3.535</td>\n",
       "      <td>0.012</td>\n",
       "      <td>0.008</td>\n",
       "      <td>2467.0</td>\n",
       "      <td>2478.0</td>\n",
       "      <td>1.0</td>\n",
       "    </tr>\n",
       "    <tr>\n",
       "      <th>Diffβ[Hard]</th>\n",
       "      <td>1.020</td>\n",
       "      <td>0.545</td>\n",
       "      <td>0.006</td>\n",
       "      <td>1.916</td>\n",
       "      <td>0.011</td>\n",
       "      <td>0.008</td>\n",
       "      <td>2042.0</td>\n",
       "      <td>1397.0</td>\n",
       "      <td>1.0</td>\n",
       "    </tr>\n",
       "    <tr>\n",
       "      <th>Interβ[Ca.W_Easy]</th>\n",
       "      <td>1.029</td>\n",
       "      <td>0.558</td>\n",
       "      <td>0.004</td>\n",
       "      <td>1.942</td>\n",
       "      <td>0.012</td>\n",
       "      <td>0.008</td>\n",
       "      <td>1797.0</td>\n",
       "      <td>1150.0</td>\n",
       "      <td>1.0</td>\n",
       "    </tr>\n",
       "    <tr>\n",
       "      <th>Interβ[Ca.W_Hard]</th>\n",
       "      <td>0.646</td>\n",
       "      <td>0.474</td>\n",
       "      <td>0.000</td>\n",
       "      <td>1.489</td>\n",
       "      <td>0.007</td>\n",
       "      <td>0.005</td>\n",
       "      <td>2444.0</td>\n",
       "      <td>1397.0</td>\n",
       "      <td>1.0</td>\n",
       "    </tr>\n",
       "    <tr>\n",
       "      <th>Interβ[Da.M_Easy]</th>\n",
       "      <td>1.332</td>\n",
       "      <td>0.629</td>\n",
       "      <td>0.204</td>\n",
       "      <td>2.490</td>\n",
       "      <td>0.013</td>\n",
       "      <td>0.009</td>\n",
       "      <td>2143.0</td>\n",
       "      <td>1269.0</td>\n",
       "      <td>1.0</td>\n",
       "    </tr>\n",
       "    <tr>\n",
       "      <th>Interβ[Da.M_Hard]</th>\n",
       "      <td>0.636</td>\n",
       "      <td>0.479</td>\n",
       "      <td>0.000</td>\n",
       "      <td>1.505</td>\n",
       "      <td>0.007</td>\n",
       "      <td>0.005</td>\n",
       "      <td>2693.0</td>\n",
       "      <td>1506.0</td>\n",
       "      <td>1.0</td>\n",
       "    </tr>\n",
       "    <tr>\n",
       "      <th>Interβ[Da.S_Easy]</th>\n",
       "      <td>0.425</td>\n",
       "      <td>0.328</td>\n",
       "      <td>0.000</td>\n",
       "      <td>1.008</td>\n",
       "      <td>0.005</td>\n",
       "      <td>0.004</td>\n",
       "      <td>2528.0</td>\n",
       "      <td>1509.0</td>\n",
       "      <td>1.0</td>\n",
       "    </tr>\n",
       "    <tr>\n",
       "      <th>Interβ[Da.S_Hard]</th>\n",
       "      <td>0.683</td>\n",
       "      <td>0.500</td>\n",
       "      <td>0.000</td>\n",
       "      <td>1.549</td>\n",
       "      <td>0.008</td>\n",
       "      <td>0.006</td>\n",
       "      <td>2606.0</td>\n",
       "      <td>1559.0</td>\n",
       "      <td>1.0</td>\n",
       "    </tr>\n",
       "    <tr>\n",
       "      <th>Interβ[Ja.F_Easy]</th>\n",
       "      <td>0.777</td>\n",
       "      <td>0.594</td>\n",
       "      <td>0.001</td>\n",
       "      <td>1.860</td>\n",
       "      <td>0.010</td>\n",
       "      <td>0.007</td>\n",
       "      <td>2403.0</td>\n",
       "      <td>1425.0</td>\n",
       "      <td>1.0</td>\n",
       "    </tr>\n",
       "    <tr>\n",
       "      <th>Interβ[Ja.F_Hard]</th>\n",
       "      <td>0.823</td>\n",
       "      <td>0.599</td>\n",
       "      <td>0.000</td>\n",
       "      <td>1.885</td>\n",
       "      <td>0.009</td>\n",
       "      <td>0.006</td>\n",
       "      <td>3190.0</td>\n",
       "      <td>1643.0</td>\n",
       "      <td>1.0</td>\n",
       "    </tr>\n",
       "    <tr>\n",
       "      <th>Interβ[Ka.S_Easy]</th>\n",
       "      <td>0.570</td>\n",
       "      <td>0.407</td>\n",
       "      <td>0.000</td>\n",
       "      <td>1.298</td>\n",
       "      <td>0.007</td>\n",
       "      <td>0.005</td>\n",
       "      <td>2542.0</td>\n",
       "      <td>1520.0</td>\n",
       "      <td>1.0</td>\n",
       "    </tr>\n",
       "    <tr>\n",
       "      <th>Interβ[Ka.S_Hard]</th>\n",
       "      <td>0.851</td>\n",
       "      <td>0.552</td>\n",
       "      <td>0.004</td>\n",
       "      <td>1.825</td>\n",
       "      <td>0.009</td>\n",
       "      <td>0.006</td>\n",
       "      <td>2930.0</td>\n",
       "      <td>1516.0</td>\n",
       "      <td>1.0</td>\n",
       "    </tr>\n",
       "    <tr>\n",
       "      <th>Interβ[Ka.W_Easy]</th>\n",
       "      <td>0.623</td>\n",
       "      <td>0.425</td>\n",
       "      <td>0.000</td>\n",
       "      <td>1.353</td>\n",
       "      <td>0.009</td>\n",
       "      <td>0.006</td>\n",
       "      <td>1933.0</td>\n",
       "      <td>1453.0</td>\n",
       "      <td>1.0</td>\n",
       "    </tr>\n",
       "    <tr>\n",
       "      <th>Interβ[Ka.W_Hard]</th>\n",
       "      <td>0.760</td>\n",
       "      <td>0.516</td>\n",
       "      <td>0.001</td>\n",
       "      <td>1.654</td>\n",
       "      <td>0.009</td>\n",
       "      <td>0.006</td>\n",
       "      <td>2359.0</td>\n",
       "      <td>1264.0</td>\n",
       "      <td>1.0</td>\n",
       "    </tr>\n",
       "    <tr>\n",
       "      <th>Interβ[St.S_Easy]</th>\n",
       "      <td>1.666</td>\n",
       "      <td>0.717</td>\n",
       "      <td>0.366</td>\n",
       "      <td>3.043</td>\n",
       "      <td>0.014</td>\n",
       "      <td>0.010</td>\n",
       "      <td>2394.0</td>\n",
       "      <td>1687.0</td>\n",
       "      <td>1.0</td>\n",
       "    </tr>\n",
       "    <tr>\n",
       "      <th>Interβ[St.S_Hard]</th>\n",
       "      <td>1.113</td>\n",
       "      <td>0.675</td>\n",
       "      <td>0.004</td>\n",
       "      <td>2.259</td>\n",
       "      <td>0.011</td>\n",
       "      <td>0.008</td>\n",
       "      <td>2864.0</td>\n",
       "      <td>1634.0</td>\n",
       "      <td>1.0</td>\n",
       "    </tr>\n",
       "    <tr>\n",
       "      <th>Interβ[Su.S_Easy]</th>\n",
       "      <td>0.981</td>\n",
       "      <td>0.620</td>\n",
       "      <td>0.000</td>\n",
       "      <td>2.034</td>\n",
       "      <td>0.011</td>\n",
       "      <td>0.008</td>\n",
       "      <td>2007.0</td>\n",
       "      <td>1247.0</td>\n",
       "      <td>1.0</td>\n",
       "    </tr>\n",
       "    <tr>\n",
       "      <th>Interβ[Su.S_Hard]</th>\n",
       "      <td>0.896</td>\n",
       "      <td>0.653</td>\n",
       "      <td>0.001</td>\n",
       "      <td>2.064</td>\n",
       "      <td>0.009</td>\n",
       "      <td>0.006</td>\n",
       "      <td>3631.0</td>\n",
       "      <td>1693.0</td>\n",
       "      <td>1.0</td>\n",
       "    </tr>\n",
       "    <tr>\n",
       "      <th>ϵβ</th>\n",
       "      <td>4.140</td>\n",
       "      <td>0.595</td>\n",
       "      <td>3.024</td>\n",
       "      <td>5.227</td>\n",
       "      <td>0.012</td>\n",
       "      <td>0.008</td>\n",
       "      <td>2484.0</td>\n",
       "      <td>2257.0</td>\n",
       "      <td>1.0</td>\n",
       "    </tr>\n",
       "  </tbody>\n",
       "</table>\n",
       "</div>"
      ],
      "text/plain": [
       "                    mean     sd  hdi_3%  hdi_97%  mcse_mean  mcse_sd  \\\n",
       "Namesβ[Ca.W]       0.891  0.512   0.014    1.756      0.010    0.007   \n",
       "Namesβ[Da.M]       1.172  0.572   0.035    2.128      0.013    0.009   \n",
       "Namesβ[Da.S]       0.448  0.341   0.000    1.055      0.006    0.005   \n",
       "Namesβ[Ja.F]       0.828  0.620   0.002    1.940      0.010    0.007   \n",
       "Namesβ[Ka.S]       0.722  0.452   0.000    1.475      0.009    0.006   \n",
       "Namesβ[Ka.W]       0.706  0.430   0.000    1.439      0.009    0.006   \n",
       "Namesβ[St.S]       2.362  0.693   1.048    3.679      0.014    0.010   \n",
       "Namesβ[Su.S]       1.079  0.639   0.002    2.184      0.012    0.009   \n",
       "Diffβ[Easy]        2.466  0.581   1.342    3.535      0.012    0.008   \n",
       "Diffβ[Hard]        1.020  0.545   0.006    1.916      0.011    0.008   \n",
       "Interβ[Ca.W_Easy]  1.029  0.558   0.004    1.942      0.012    0.008   \n",
       "Interβ[Ca.W_Hard]  0.646  0.474   0.000    1.489      0.007    0.005   \n",
       "Interβ[Da.M_Easy]  1.332  0.629   0.204    2.490      0.013    0.009   \n",
       "Interβ[Da.M_Hard]  0.636  0.479   0.000    1.505      0.007    0.005   \n",
       "Interβ[Da.S_Easy]  0.425  0.328   0.000    1.008      0.005    0.004   \n",
       "Interβ[Da.S_Hard]  0.683  0.500   0.000    1.549      0.008    0.006   \n",
       "Interβ[Ja.F_Easy]  0.777  0.594   0.001    1.860      0.010    0.007   \n",
       "Interβ[Ja.F_Hard]  0.823  0.599   0.000    1.885      0.009    0.006   \n",
       "Interβ[Ka.S_Easy]  0.570  0.407   0.000    1.298      0.007    0.005   \n",
       "Interβ[Ka.S_Hard]  0.851  0.552   0.004    1.825      0.009    0.006   \n",
       "Interβ[Ka.W_Easy]  0.623  0.425   0.000    1.353      0.009    0.006   \n",
       "Interβ[Ka.W_Hard]  0.760  0.516   0.001    1.654      0.009    0.006   \n",
       "Interβ[St.S_Easy]  1.666  0.717   0.366    3.043      0.014    0.010   \n",
       "Interβ[St.S_Hard]  1.113  0.675   0.004    2.259      0.011    0.008   \n",
       "Interβ[Su.S_Easy]  0.981  0.620   0.000    2.034      0.011    0.008   \n",
       "Interβ[Su.S_Hard]  0.896  0.653   0.001    2.064      0.009    0.006   \n",
       "ϵβ                 4.140  0.595   3.024    5.227      0.012    0.008   \n",
       "\n",
       "                   ess_bulk  ess_tail  r_hat  \n",
       "Namesβ[Ca.W]         2109.0    1516.0    1.0  \n",
       "Namesβ[Da.M]         1863.0    1358.0    1.0  \n",
       "Namesβ[Da.S]         2005.0    1273.0    1.0  \n",
       "Namesβ[Ja.F]         2519.0    1554.0    1.0  \n",
       "Namesβ[Ka.S]         2221.0    1922.0    1.0  \n",
       "Namesβ[Ka.W]         1740.0     874.0    1.0  \n",
       "Namesβ[St.S]         2613.0    1742.0    1.0  \n",
       "Namesβ[Su.S]         2062.0    1046.0    1.0  \n",
       "Diffβ[Easy]          2467.0    2478.0    1.0  \n",
       "Diffβ[Hard]          2042.0    1397.0    1.0  \n",
       "Interβ[Ca.W_Easy]    1797.0    1150.0    1.0  \n",
       "Interβ[Ca.W_Hard]    2444.0    1397.0    1.0  \n",
       "Interβ[Da.M_Easy]    2143.0    1269.0    1.0  \n",
       "Interβ[Da.M_Hard]    2693.0    1506.0    1.0  \n",
       "Interβ[Da.S_Easy]    2528.0    1509.0    1.0  \n",
       "Interβ[Da.S_Hard]    2606.0    1559.0    1.0  \n",
       "Interβ[Ja.F_Easy]    2403.0    1425.0    1.0  \n",
       "Interβ[Ja.F_Hard]    3190.0    1643.0    1.0  \n",
       "Interβ[Ka.S_Easy]    2542.0    1520.0    1.0  \n",
       "Interβ[Ka.S_Hard]    2930.0    1516.0    1.0  \n",
       "Interβ[Ka.W_Easy]    1933.0    1453.0    1.0  \n",
       "Interβ[Ka.W_Hard]    2359.0    1264.0    1.0  \n",
       "Interβ[St.S_Easy]    2394.0    1687.0    1.0  \n",
       "Interβ[St.S_Hard]    2864.0    1634.0    1.0  \n",
       "Interβ[Su.S_Easy]    2007.0    1247.0    1.0  \n",
       "Interβ[Su.S_Hard]    3631.0    1693.0    1.0  \n",
       "ϵβ                   2484.0    2257.0    1.0  "
      ]
     },
     "execution_count": 8,
     "metadata": {},
     "output_type": "execute_result"
    }
   ],
   "source": [
    "az.summary(trace2, var_names=[\"Namesβ\", \"Diffβ\", \"Interβ\", \"ϵβ\"])"
   ]
  },
  {
   "cell_type": "code",
   "execution_count": 9,
   "id": "21e5074d-9d77-43d1-b979-7a3213d65d7c",
   "metadata": {},
   "outputs": [
    {
     "data": {
      "text/plain": [
       "array([<AxesSubplot:title={'center':'94.0% HDI'}>], dtype=object)"
      ]
     },
     "execution_count": 9,
     "metadata": {},
     "output_type": "execute_result"
    },
    {
     "data": {
      "image/png": "[encoded data removed]",
      "text/plain": [
       "<Figure size 600x710 with 1 Axes>"
      ]
     },
     "metadata": {},
     "output_type": "display_data"
    }
   ],
   "source": [
    "az.plot_forest(trace2, var_names=[\"Namesβ\", \"Diffβ\", \"ϵβ\"], combined=True)"
   ]
  },
  {
   "cell_type": "code",
   "execution_count": 10,
   "id": "3ea058fe-2642-4f4e-a994-90aab24f462d",
   "metadata": {},
   "outputs": [
    {
     "data": {
      "text/plain": [
       "array([<AxesSubplot:title={'center':'94.0% HDI'}>], dtype=object)"
      ]
     },
     "execution_count": 10,
     "metadata": {},
     "output_type": "execute_result"
    },
    {
     "data": {
      "image/png": "[encoded data removed]",
      "text/plain": [
       "<Figure size 600x560 with 1 Axes>"
      ]
     },
     "metadata": {},
     "output_type": "display_data"
    }
   ],
   "source": [
    "az.plot_forest(trace2, var_names=[\"Interβ\"], combined=True)"
   ]
  },
  {
   "cell_type": "markdown",
   "id": "5745594e-ca25-4458-9740-8b2171ab21c5",
   "metadata": {},
   "source": [
    "## Posterior Predictive\n",
    "\n",
    "The posterior predictive seems slightly worse when NOT using hyper-priors for Players, Difficulty. \n",
    "Maybe there is additional variation to capture by adding 'gender' or 'relationship' variables?"
   ]
  },
  {
   "cell_type": "code",
   "execution_count": 22,
   "id": "c3a8ac05-cb66-462b-a2dc-d634613dc184",
   "metadata": {},
   "outputs": [
    {
     "data": {
      "text/html": [
       "\n",
       "<style>\n",
       "    /* Turns off some styling */\n",
       "    progress {\n",
       "        /* gets rid of default border in Firefox and Opera. */\n",
       "        border: none;\n",
       "        /* Needs to be in here for Safari polyfill so background images work as expected. */\n",
       "        background-size: auto;\n",
       "    }\n",
       "    progress:not([value]), progress:not([value])::-webkit-progress-bar {\n",
       "        background: repeating-linear-gradient(45deg, #7e7e7e, #7e7e7e 10px, #5c5c5c 10px, #5c5c5c 20px);\n",
       "    }\n",
       "    .progress-bar-interrupted, .progress-bar-interrupted::-webkit-progress-bar {\n",
       "        background: #F44336;\n",
       "    }\n",
       "</style>\n"
      ],
      "text/plain": [
       "<IPython.core.display.HTML object>"
      ]
     },
     "metadata": {},
     "output_type": "display_data"
    },
    {
     "data": {
      "text/html": [
       "\n",
       "    <div>\n",
       "      <progress value='4000' class='' max='4000' style='width:300px; height:20px; vertical-align: middle;'></progress>\n",
       "      100.00% [4000/4000 00:06&lt;00:00]\n",
       "    </div>\n",
       "    "
      ],
      "text/plain": [
       "<IPython.core.display.HTML object>"
      ]
     },
     "metadata": {},
     "output_type": "display_data"
    }
   ],
   "source": [
    "with BB2:\n",
    "    ppc_data_trace2 = pm.sample_posterior_predictive(trace2, extend_inferencedata=True)"
   ]
  },
  {
   "cell_type": "code",
   "execution_count": 82,
   "id": "85774e36-8f34-4acf-9180-ff50c470d8f7",
   "metadata": {},
   "outputs": [
    {
     "data": {
      "text/plain": [
       "<AxesSubplot:xlabel='Fails / Fails'>"
      ]
     },
     "execution_count": 82,
     "metadata": {},
     "output_type": "execute_result"
    },
    {
     "data": {
      "image/png": "[encoded data removed]",
      "text/plain": [
       "<Figure size 720x480 with 1 Axes>"
      ]
     },
     "metadata": {},
     "output_type": "display_data"
    }
   ],
   "source": [
    "az.plot_ppc(ppc_data_trace2, alpha=0.05, kind=\"cumulative\", num_pp_samples=100)"
   ]
  },
  {
   "cell_type": "markdown",
   "id": "2b7cc805-aa78-4d46-aa1b-0429d9eecbc7",
   "metadata": {},
   "source": [
    "## Generate Fitted Values\n",
    "\n",
    "The key here is to use the 'set_data' attribute. Running the model again with the same data causes the model to generate predictions. The previous run generated draws for _parameter_ values. Here we're getting the fitted _response_ values."
   ]
  },
  {
   "cell_type": "code",
   "execution_count": 11,
   "id": "da848771-2455-4acc-810d-fce315697943",
   "metadata": {},
   "outputs": [
    {
     "data": {
      "text/html": [
       "\n",
       "<style>\n",
       "    /* Turns off some styling */\n",
       "    progress {\n",
       "        /* gets rid of default border in Firefox and Opera. */\n",
       "        border: none;\n",
       "        /* Needs to be in here for Safari polyfill so background images work as expected. */\n",
       "        background-size: auto;\n",
       "    }\n",
       "    progress:not([value]), progress:not([value])::-webkit-progress-bar {\n",
       "        background: repeating-linear-gradient(45deg, #7e7e7e, #7e7e7e 10px, #5c5c5c 10px, #5c5c5c 20px);\n",
       "    }\n",
       "    .progress-bar-interrupted, .progress-bar-interrupted::-webkit-progress-bar {\n",
       "        background: #F44336;\n",
       "    }\n",
       "</style>\n"
      ],
      "text/plain": [
       "<IPython.core.display.HTML object>"
      ]
     },
     "metadata": {},
     "output_type": "display_data"
    },
    {
     "data": {
      "text/html": [
       "\n",
       "    <div>\n",
       "      <progress value='4000' class='' max='4000' style='width:300px; height:20px; vertical-align: middle;'></progress>\n",
       "      100.00% [4000/4000 00:03&lt;00:00]\n",
       "    </div>\n",
       "    "
      ],
      "text/plain": [
       "<IPython.core.display.HTML object>"
      ]
     },
     "metadata": {},
     "output_type": "display_data"
    }
   ],
   "source": [
    "with BB2:\n",
    "    pm.set_data({\n",
    "        \"y\" : df2['Fails'].to_numpy(),\n",
    "        \"xPlayers\" : playerDummies.to_numpy(),\n",
    "        \"xDifficulty\" : difficultyDummies.to_numpy(),\n",
    "        \"xInteraction\" : interactionDummies.to_numpy()\n",
    "    })\n",
    "    \n",
    "    y_test = pm.sample_posterior_predictive(trace2)"
   ]
  },
  {
   "cell_type": "code",
   "execution_count": 21,
   "id": "814e31aa-111b-42b6-bd42-6d45398e1acf",
   "metadata": {},
   "outputs": [],
   "source": [
    "playerOut = playerDummies.copy()\n",
    "diffOut = difficultyDummies.copy()\n",
    "interOut = interactionDummies.copy()"
   ]
  },
  {
   "cell_type": "markdown",
   "id": "b1db1bdd-e592-4f09-8737-6aab7bbbe3be",
   "metadata": {},
   "source": [
    "### Players"
   ]
  },
  {
   "cell_type": "code",
   "execution_count": 22,
   "id": "7ea45792-54ed-439c-9fc1-a48b317c5ee1",
   "metadata": {},
   "outputs": [],
   "source": [
    "# Add the fails and the predictions to the player dummies\n",
    "playerOut['Fails'] = df2['Fails']\n",
    "playerOut['Predictions'] = y_test.posterior_predictive['Fails'].mean(('chain', 'draw'))\n",
    "# get columns to aggregate and melt by\n",
    "cols=playerOut.columns[:-1].to_list()\n",
    "# melt\n",
    "playerOut = playerOut.groupby(cols).agg({'Predictions':'mean'}).reset_index()\n",
    "playerOut = pd.melt(playerOut, id_vars=['Fails','Predictions']).drop('value',axis=1)"
   ]
  },
  {
   "cell_type": "markdown",
   "id": "6f8f61ba-4b4d-452e-a1b8-55ca6160655d",
   "metadata": {},
   "source": [
    "### Difficulty"
   ]
  },
  {
   "cell_type": "code",
   "execution_count": 28,
   "id": "0cb06112-b840-4598-b856-97eda8529264",
   "metadata": {},
   "outputs": [],
   "source": [
    "diffOut['Fails'] = df2['Fails']\n",
    "diffOut['Predictions'] = y_test.posterior_predictive['Fails'].mean(('chain', 'draw'))\n",
    "cols=diffOut.columns[:-1].to_list()\n",
    "diffOut = diffOut.groupby(cols).agg({'Predictions':'mean'}).reset_index()\n",
    "diffOut = pd.melt(diffOut, id_vars=['Fails','Predictions']).drop('value',axis=1)"
   ]
  },
  {
   "cell_type": "markdown",
   "id": "8a2c1cad-b66e-40eb-b036-733c89a855c0",
   "metadata": {},
   "source": [
    "### Interactions"
   ]
  },
  {
   "cell_type": "code",
   "execution_count": 30,
   "id": "fcb8657e-4813-451f-9cc9-39fe93832c01",
   "metadata": {},
   "outputs": [],
   "source": [
    "interOut['Fails'] = df2['Fails']\n",
    "interOut['Predictions'] = y_test.posterior_predictive['Fails'].mean(('chain', 'draw'))\n",
    "cols=interOut.columns[:-1].to_list()\n",
    "interOut = interOut.groupby(cols).agg({'Predictions':'mean'}).reset_index()\n",
    "interOut = pd.melt(interOut, id_vars=['Fails','Predictions']).drop('value',axis=1)"
   ]
  },
  {
   "cell_type": "markdown",
   "id": "ba3ea70e-d950-4017-a7b4-4723d908c910",
   "metadata": {},
   "source": [
    "## Write Output"
   ]
  },
  {
   "cell_type": "code",
   "execution_count": 32,
   "id": "4a7b232a-ba67-4f45-b95d-b2653d49de46",
   "metadata": {},
   "outputs": [],
   "source": [
    "# write the summary file\n",
    "az.summary(trace2, var_names=[\"Namesβ\", \"Diffβ\", \"Interβ\", \"ϵβ\"]).to_csv(censoring.model_output, index=False)\n",
    "# write the fitted values\n",
    "playerOut.to_csv(censoring.playerOut, index=False)\n",
    "diffOut.to_csv(censoring.diffOut, index=False)\n",
    "interOut.to_csv(censoring.interOut, index=False)"
   ]
  }
 ],
 "metadata": {
  "kernelspec": {
   "display_name": "Python 3 (ipykernel)",
   "language": "python",
   "name": "python3"
  },
  "language_info": {
   "codemirror_mode": {
    "name": "ipython",
    "version": 3
   },
   "file_extension": ".py",
   "mimetype": "text/x-python",
   "name": "python",
   "nbconvert_exporter": "python",
   "pygments_lexer": "ipython3",
   "version": "3.10.5"
  }
 },
 "nbformat": 4,
 "nbformat_minor": 5
}
