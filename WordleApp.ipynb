{
 "cells": [
  {
   "cell_type": "markdown",
   "id": "ebaee03a-0441-44ae-ad63-812fbd36a861",
   "metadata": {},
   "source": [
    "## Import libraries\n",
    "Developing in Jupyter Lab, so using JupyterDash"
   ]
  },
  {
   "cell_type": "code",
   "execution_count": 1,
   "id": "911d4827-caec-44ca-9878-ab0979dabe44",
   "metadata": {},
   "outputs": [],
   "source": [
    "import pandas as pd\n",
    "from jupyter_dash import JupyterDash\n",
    "import dash\n",
    "from dash import dcc\n",
    "from dash import html\n",
    "import plotly.express as px\n",
    "import censoring"
   ]
  },
  {
   "cell_type": "markdown",
   "id": "5aff15d5-d943-468f-b312-2b721e82cff9",
   "metadata": {},
   "source": [
    "## Configure for JupyterDash"
   ]
  },
  {
   "cell_type": "code",
   "execution_count": 3,
   "id": "8eb32987-1714-4991-89b6-da7cff0d9711",
   "metadata": {},
   "outputs": [],
   "source": [
    "JupyterDash.infer_jupyter_proxy_config()"
   ]
  },
  {
   "cell_type": "markdown",
   "id": "2dcb6b94-e022-4b4e-bc15-207c6c45610e",
   "metadata": {},
   "source": [
    "## Create Summary Data Frame\n",
    "\n",
    "In the future, more intricate callbacks will be used on a single data frame. A summary data frame is suitable for my purposes"
   ]
  },
  {
   "cell_type": "code",
   "execution_count": 4,
   "id": "2835ce87-5508-42b7-bad4-8602ee7ba757",
   "metadata": {},
   "outputs": [],
   "source": [
    "df = pd.read_csv(censoring.wordle_output)\n",
    "# limit to the puzzle in which we last have words (396)\n",
    "df2 = df[ (df['PuzzleNum'] < 447) & (df['PuzzleNum'] != 421) & (df['Difficulty'] != 'Undefined')].copy()\n",
    "df3 = df2.groupby(['Name','Fails']).size().reset_index()\n",
    "df3 = df3.rename(columns={ df3.columns[2]: \"Counts\" })\n",
    "player_list = df3['Name'].unique().tolist()"
   ]
  },
  {
   "cell_type": "markdown",
   "id": "cf482c38-465c-4f25-936f-fed89466f5ee",
   "metadata": {},
   "source": [
    "## App w/Single Callback"
   ]
  },
  {
   "cell_type": "code",
   "execution_count": 6,
   "id": "7adcb837-b062-483a-94f5-f7e32d6d9e1b",
   "metadata": {},
   "outputs": [],
   "source": [
    "external_stylesheets = ['https://codepen.io/chriddyp/pen/dZVMbK.css']\n",
    "\n",
    "app = JupyterDash(__name__, external_stylesheets=external_stylesheets)\n",
    "\n",
    "# Create server variable with Flask server object for use with gunicorn\n",
    "server = app.server\n",
    "\n",
    "app.layout = html.Div(\n",
    "    children=[\n",
    "        html.H1(children='Wordle Scoreboard & Analytics'),\n",
    "        html.Div(children='Fails By player'),\n",
    "        html.Div([\n",
    "            dcc.Dropdown(\n",
    "                id='crossfilter-xaxis-column',\n",
    "                options=[{'label': i, 'value': i} for i in player_list],\n",
    "                value='Choose a Player'\n",
    "            ),\n",
    "            html.Div([\n",
    "                dcc.Graph(id='bars-fail-distribution')], \n",
    "                style={'width': '49%', 'display': 'inline-block', 'padding': '0 20'})\n",
    "        ])\n",
    "    ]\n",
    ")\n",
    "\n",
    "@app.callback(\n",
    "    dash.dependencies.Output('bars-fail-distribution', 'figure'),\n",
    "    dash.dependencies.Input('crossfilter-xaxis-column', 'value')\n",
    ")\n",
    "def update_figure(selected_player):\n",
    "    filtered_df = df3[df3.Name == selected_player]\n",
    "\n",
    "    fig = px.bar(\n",
    "        filtered_df, \n",
    "        x=\"Fails\", \n",
    "        y=\"Counts\", \n",
    "        color=\"Name\", \n",
    "        barmode=\"group\"\n",
    "    )\n",
    "\n",
    "    fig.update_layout(transition_duration=500)\n",
    "\n",
    "    return fig\n"
   ]
  },
  {
   "cell_type": "markdown",
   "id": "3cf100a7-c84e-46fb-8119-7cb7c31a559a",
   "metadata": {},
   "source": [
    "## Run App"
   ]
  },
  {
   "cell_type": "code",
   "execution_count": 7,
   "id": "cfd4864c-2953-440e-ab8b-054cbfb11ace",
   "metadata": {},
   "outputs": [],
   "source": [
    "app.run_server(debug=\"True\", mode=\"jupyterlab\")"
   ]
  }
 ],
 "metadata": {
  "kernelspec": {
   "display_name": "Python 3 (ipykernel)",
   "language": "python",
   "name": "python3"
  },
  "language_info": {
   "codemirror_mode": {
    "name": "ipython",
    "version": 3
   },
   "file_extension": ".py",
   "mimetype": "text/x-python",
   "name": "python",
   "nbconvert_exporter": "python",
   "pygments_lexer": "ipython3",
   "version": "3.10.5"
  }
 },
 "nbformat": 4,
 "nbformat_minor": 5
}
