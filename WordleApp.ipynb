{
 "cells": [
  {
   "cell_type": "markdown",
   "id": "ebaee03a-0441-44ae-ad63-812fbd36a861",
   "metadata": {},
   "source": [
    "## Import libraries\n",
    "Developing in Jupyter Lab, so using JupyterDash"
   ]
  },
  {
   "cell_type": "code",
   "execution_count": 1,
   "id": "911d4827-caec-44ca-9878-ab0979dabe44",
   "metadata": {},
   "outputs": [],
   "source": [
    "import pandas as pd\n",
    "from jupyter_dash import JupyterDash\n",
    "import dash\n",
    "from dash import dcc, html\n",
    "import plotly.express as px\n",
    "import censoring"
   ]
  },
  {
   "cell_type": "markdown",
   "id": "5aff15d5-d943-468f-b312-2b721e82cff9",
   "metadata": {},
   "source": [
    "## Configure for JupyterDash"
   ]
  },
  {
   "cell_type": "code",
   "execution_count": 3,
   "id": "8eb32987-1714-4991-89b6-da7cff0d9711",
   "metadata": {},
   "outputs": [],
   "source": [
    "JupyterDash.infer_jupyter_proxy_config()"
   ]
  },
  {
   "cell_type": "markdown",
   "id": "2dcb6b94-e022-4b4e-bc15-207c6c45610e",
   "metadata": {},
   "source": [
    "## Filter"
   ]
  },
  {
   "cell_type": "code",
   "execution_count": 4,
   "id": "2835ce87-5508-42b7-bad4-8602ee7ba757",
   "metadata": {},
   "outputs": [],
   "source": [
    "df = pd.read_csv(censoring.wordle_output)\n",
    "# limit to the puzzle in which we last have words (396)\n",
    "df2 = df[ (df['PuzzleNum'] < 447) & \n",
    "         (df['PuzzleNum'] != 421) & \n",
    "         (df['Difficulty'] != 'Undefined') &\n",
    "         (df['Name'] != 'Player7') & \n",
    "         (df['Name'] != 'Player8')\n",
    "        ].copy()\n",
    "\n",
    "# limit puzzles to where 6 players participated\n",
    "df3 = df2[['Name','PuzzleNum']].groupby(['PuzzleNum']).agg('count').reset_index()\n",
    "list_of_puzzles = df3[ df3['Name'] == 6 ]['PuzzleNum'].tolist()\n",
    "df2 = df2[ df2['PuzzleNum'].isin(list_of_puzzles)].copy()\n",
    "\n",
    "# make player list\n",
    "player_list = df2['Name'].unique().tolist()"
   ]
  },
  {
   "cell_type": "markdown",
   "id": "31973ef3-758e-4e53-a8cd-1bb36b0bb6fe",
   "metadata": {},
   "source": [
    "## Work-in-Progress"
   ]
  },
  {
   "cell_type": "code",
   "execution_count": 5,
   "id": "3bf2e600-221c-43e7-a5d0-dde08af2e773",
   "metadata": {},
   "outputs": [
    {
     "name": "stdout",
     "output_type": "stream",
     "text": [
      "Dash app running on http://127.0.0.1:8050/\n"
     ]
    }
   ],
   "source": [
    "external_stylesheets = ['https://codepen.io/chriddyp/pen/dZVMbK.css']\n",
    "\n",
    "app = JupyterDash(__name__, external_stylesheets=external_stylesheets)\n",
    "\n",
    "# Create server variable with Flask server object for use with gunicorn\n",
    "server = app.server\n",
    "\n",
    "app.layout = html.Div(\n",
    "    children=[\n",
    "        html.H1(children='Wordle Scoreboard'),\n",
    "        html.Div(children='Player Score Distribution'),\n",
    "        html.Div([\n",
    "            html.Div([\n",
    "                dcc.Checklist(\n",
    "                    id='crossfilter-xaxis-column',\n",
    "                    options=[{'label': i, 'value': i} for i in player_list],\n",
    "                    inline=True,\n",
    "                    value=player_list\n",
    "                ),\n",
    "                dcc.Graph(id='bars-fail-total')\n",
    "            ]),\n",
    "            html.Div([\n",
    "                dcc.Graph(id='bars-fail-distribution')\n",
    "            ])\n",
    "        ],\n",
    "            style={'width': '49%', 'display': 'flex'}\n",
    "        )\n",
    "    ]\n",
    ")\n",
    "\n",
    "@app.callback(\n",
    "    dash.dependencies.Output('bars-fail-distribution', 'figure'),\n",
    "    dash.dependencies.Input('crossfilter-xaxis-column', 'value')\n",
    ")\n",
    "def update_distplot(selected_player):\n",
    "    # input filters df onto a single name\n",
    "    filtered_df = df2[ df2.Name.isin(selected_player) ]\n",
    "    fig = px.histogram(\n",
    "        filtered_df, \n",
    "        x=\"Fails\", \n",
    "        # y=\"Counts\", \n",
    "        color=\"Name\", \n",
    "        # barmode=\"group\"\n",
    "    )\n",
    "    # now update the figture with a click\n",
    "    fig.update_layout(transition_duration=250)\n",
    "\n",
    "    return fig\n",
    "\n",
    "@app.callback(\n",
    "    dash.dependencies.Output('bars-fail-total', 'figure'),\n",
    "    dash.dependencies.Input('crossfilter-xaxis-column', 'value')\n",
    ")\n",
    "def update_barplot(selected_player):\n",
    "    df3 = df2.groupby(['Name']).agg({'Fails':'sum'}).reset_index()\n",
    "    filtered_df = df3[ df3.Name.isin(selected_player) ]\n",
    "    fig = px.bar(\n",
    "        filtered_df, \n",
    "        y='Name', \n",
    "        x='Fails', \n",
    "        color='Name'\n",
    "    )\n",
    "    # update the figure\n",
    "    fig.update_layout(transition_duration=250)\n",
    "    \n",
    "    return fig\n",
    "\n",
    "if __name__ == '__main__':\n",
    "    # run better without 'mode=\"jupyterdash\"'\n",
    "    app.run_server(debug=True, threaded=True)"
   ]
  },
  {
   "cell_type": "code",
   "execution_count": null,
   "id": "4c77a008-a26e-4648-8b08-c97c57342485",
   "metadata": {},
   "outputs": [],
   "source": []
  }
 ],
 "metadata": {
  "kernelspec": {
   "display_name": "Python 3 (ipykernel)",
   "language": "python",
   "name": "python3"
  },
  "language_info": {
   "codemirror_mode": {
    "name": "ipython",
    "version": 3
   },
   "file_extension": ".py",
   "mimetype": "text/x-python",
   "name": "python",
   "nbconvert_exporter": "python",
   "pygments_lexer": "ipython3",
   "version": "3.10.5"
  }
 },
 "nbformat": 4,
 "nbformat_minor": 5
}
